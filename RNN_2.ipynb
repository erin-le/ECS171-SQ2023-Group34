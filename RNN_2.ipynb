{
 "cells": [
  {
   "cell_type": "code",
   "execution_count": 13,
   "id": "c268b8f3",
   "metadata": {},
   "outputs": [],
   "source": [
    "import numpy as np\n",
    "import pandas as pd\n",
    "from sklearn.model_selection import train_test_split\n",
    "from sklearn.preprocessing import MinMaxScaler\n",
    "from tensorflow.keras.models import Sequential\n",
    "from tensorflow.keras.layers import LSTM, Dense\n",
    "from tensorflow.keras.models import load_model\n",
    "from sklearn.metrics import accuracy_score\n",
    "from sklearn.metrics import confusion_matrix, classification_report\n",
    "from sklearn.metrics import roc_curve, roc_auc_score, precision_recall_curve, average_precision_score, mean_squared_error, mean_absolute_error, r2_score\n",
    "import matplotlib.pyplot as plt"
   ]
  },
  {
   "cell_type": "code",
   "execution_count": 3,
   "id": "2603f416",
   "metadata": {},
   "outputs": [],
   "source": [
    "# Load the dataset\n",
    "df = pd.read_csv(\"all_stocks_5yr.csv\")\n",
    "\n",
    "# Extract the relevant features\n",
    "# Create a new column for the target and initialize it with 0\n",
    "df['target'] = 0\n",
    "\n",
    "# Define a function to compare close values and assign the target value\n",
    "def compare_close_values(group):\n",
    "    group['target'] = (group['close'].shift(-1) > group['close']).astype(int)\n",
    "    return group\n",
    "\n",
    "# Apply the function to each group within the DataFrame\n",
    "df = df.groupby('Name', group_keys=False).apply(compare_close_values)\n",
    "\n",
    "df.dropna(inplace=True)\n",
    "\n",
    "# Reset the index of the DataFrame\n",
    "df = df.reset_index(drop=True)\n",
    "\n",
    "# Print the resulting dataset with the target column\n",
    "features = df[['open', 'high', 'low', 'close', 'volume']]\n",
    "target = df['target']\n",
    "\n",
    "# Normalize the features\n",
    "scaler = MinMaxScaler(feature_range=(0, 1))\n",
    "scaled_features = scaler.fit_transform(features)\n"
   ]
  },
  {
   "cell_type": "code",
   "execution_count": 4,
   "id": "e0d27a3a",
   "metadata": {},
   "outputs": [],
   "source": [
    "X_train, X_test, y_train, y_test = train_test_split(scaled_features, target, test_size=0.2, shuffle=False)"
   ]
  },
  {
   "cell_type": "code",
   "execution_count": 5,
   "id": "a4d7ffff",
   "metadata": {},
   "outputs": [],
   "source": [
    "# Reshape the input data for LSTM\n",
    "X_train = np.reshape(X_train, (X_train.shape[0], 1, X_train.shape[1]))\n",
    "X_test = np.reshape(X_test, (X_test.shape[0], 1, X_test.shape[1]))"
   ]
  },
  {
   "cell_type": "code",
   "execution_count": 10,
   "id": "327b86e2",
   "metadata": {},
   "outputs": [
    {
     "name": "stdout",
     "output_type": "stream",
     "text": [
      "Epoch 1/100\n",
      "15476/15476 [==============================] - 20s 1ms/step - loss: 0.6924 - accuracy: 0.5204\n",
      "Epoch 2/100\n",
      "15476/15476 [==============================] - 19s 1ms/step - loss: 0.6923 - accuracy: 0.5204\n",
      "Epoch 3/100\n",
      "15476/15476 [==============================] - 19s 1ms/step - loss: 0.6923 - accuracy: 0.5204\n",
      "Epoch 4/100\n",
      "15476/15476 [==============================] - 18s 1ms/step - loss: 0.6923 - accuracy: 0.5204\n",
      "Epoch 5/100\n",
      "15476/15476 [==============================] - 18s 1ms/step - loss: 0.6923 - accuracy: 0.5204\n",
      "Epoch 6/100\n",
      "15476/15476 [==============================] - 18s 1ms/step - loss: 0.6923 - accuracy: 0.5204\n",
      "Epoch 7/100\n",
      "15476/15476 [==============================] - 18s 1ms/step - loss: 0.6923 - accuracy: 0.5204\n",
      "Epoch 8/100\n",
      "15476/15476 [==============================] - 19s 1ms/step - loss: 0.6923 - accuracy: 0.5204\n",
      "Epoch 9/100\n",
      "15476/15476 [==============================] - 18s 1ms/step - loss: 0.6923 - accuracy: 0.5204\n",
      "Epoch 10/100\n",
      "15476/15476 [==============================] - 19s 1ms/step - loss: 0.6923 - accuracy: 0.5204\n",
      "Epoch 11/100\n",
      "15476/15476 [==============================] - 19s 1ms/step - loss: 0.6923 - accuracy: 0.5204\n",
      "Epoch 12/100\n",
      "15476/15476 [==============================] - 18s 1ms/step - loss: 0.6923 - accuracy: 0.5204\n",
      "Epoch 13/100\n",
      "15476/15476 [==============================] - 18s 1ms/step - loss: 0.6923 - accuracy: 0.5204\n",
      "Epoch 14/100\n",
      "15476/15476 [==============================] - 18s 1ms/step - loss: 0.6923 - accuracy: 0.5204\n",
      "Epoch 15/100\n",
      "15476/15476 [==============================] - 18s 1ms/step - loss: 0.6923 - accuracy: 0.5204\n",
      "Epoch 16/100\n",
      "15476/15476 [==============================] - 18s 1ms/step - loss: 0.6923 - accuracy: 0.5204\n",
      "Epoch 17/100\n",
      "15476/15476 [==============================] - 18s 1ms/step - loss: 0.6923 - accuracy: 0.5204\n",
      "Epoch 18/100\n",
      "15476/15476 [==============================] - 18s 1ms/step - loss: 0.6923 - accuracy: 0.5204\n",
      "Epoch 19/100\n",
      "15476/15476 [==============================] - 18s 1ms/step - loss: 0.6923 - accuracy: 0.5204\n",
      "Epoch 20/100\n",
      "15476/15476 [==============================] - 19s 1ms/step - loss: 0.6923 - accuracy: 0.5204\n",
      "Epoch 21/100\n",
      "15476/15476 [==============================] - 18s 1ms/step - loss: 0.6923 - accuracy: 0.5204\n",
      "Epoch 22/100\n",
      "15476/15476 [==============================] - 19s 1ms/step - loss: 0.6923 - accuracy: 0.5204\n",
      "Epoch 23/100\n",
      "15476/15476 [==============================] - 26s 2ms/step - loss: 0.6923 - accuracy: 0.5204\n",
      "Epoch 24/100\n",
      "15476/15476 [==============================] - 46s 3ms/step - loss: 0.6923 - accuracy: 0.5204\n",
      "Epoch 25/100\n",
      "15476/15476 [==============================] - 19s 1ms/step - loss: 0.6923 - accuracy: 0.5204\n",
      "Epoch 26/100\n",
      "15476/15476 [==============================] - 18s 1ms/step - loss: 0.6923 - accuracy: 0.5204\n",
      "Epoch 27/100\n",
      "15476/15476 [==============================] - 19s 1ms/step - loss: 0.6923 - accuracy: 0.5204\n",
      "Epoch 28/100\n",
      "15476/15476 [==============================] - 19s 1ms/step - loss: 0.6923 - accuracy: 0.5204\n",
      "Epoch 29/100\n",
      "15476/15476 [==============================] - 19s 1ms/step - loss: 0.6923 - accuracy: 0.5204\n",
      "Epoch 30/100\n",
      "15476/15476 [==============================] - 19s 1ms/step - loss: 0.6923 - accuracy: 0.5204\n",
      "Epoch 31/100\n",
      "15476/15476 [==============================] - 18s 1ms/step - loss: 0.6923 - accuracy: 0.5204\n",
      "Epoch 32/100\n",
      "15476/15476 [==============================] - 18s 1ms/step - loss: 0.6923 - accuracy: 0.5204\n",
      "Epoch 33/100\n",
      "15476/15476 [==============================] - 19s 1ms/step - loss: 0.6923 - accuracy: 0.5204\n",
      "Epoch 34/100\n",
      "15476/15476 [==============================] - 19s 1ms/step - loss: 0.6923 - accuracy: 0.5204\n",
      "Epoch 35/100\n",
      "15476/15476 [==============================] - 19s 1ms/step - loss: 0.6923 - accuracy: 0.5204\n",
      "Epoch 36/100\n",
      "15476/15476 [==============================] - 18s 1ms/step - loss: 0.6923 - accuracy: 0.5204\n",
      "Epoch 37/100\n",
      "15476/15476 [==============================] - 19s 1ms/step - loss: 0.6923 - accuracy: 0.5204\n",
      "Epoch 38/100\n",
      "15476/15476 [==============================] - 19s 1ms/step - loss: 0.6923 - accuracy: 0.5204\n",
      "Epoch 39/100\n",
      "15476/15476 [==============================] - 19s 1ms/step - loss: 0.6923 - accuracy: 0.5204\n",
      "Epoch 40/100\n",
      "15476/15476 [==============================] - 19s 1ms/step - loss: 0.6923 - accuracy: 0.5204\n",
      "Epoch 41/100\n",
      "15476/15476 [==============================] - 19s 1ms/step - loss: 0.6923 - accuracy: 0.5204\n",
      "Epoch 42/100\n",
      "15476/15476 [==============================] - 19s 1ms/step - loss: 0.6923 - accuracy: 0.5204\n",
      "Epoch 43/100\n",
      "15476/15476 [==============================] - 19s 1ms/step - loss: 0.6923 - accuracy: 0.5204\n",
      "Epoch 44/100\n",
      "15476/15476 [==============================] - 19s 1ms/step - loss: 0.6923 - accuracy: 0.5204\n",
      "Epoch 45/100\n",
      "15476/15476 [==============================] - 18s 1ms/step - loss: 0.6923 - accuracy: 0.5204\n",
      "Epoch 46/100\n",
      "15476/15476 [==============================] - 18s 1ms/step - loss: 0.6923 - accuracy: 0.5204\n",
      "Epoch 47/100\n",
      "15476/15476 [==============================] - 18s 1ms/step - loss: 0.6923 - accuracy: 0.5204\n",
      "Epoch 48/100\n",
      "15476/15476 [==============================] - 18s 1ms/step - loss: 0.6923 - accuracy: 0.5204\n",
      "Epoch 49/100\n",
      "15476/15476 [==============================] - 18s 1ms/step - loss: 0.6923 - accuracy: 0.5204\n",
      "Epoch 50/100\n",
      "15476/15476 [==============================] - 18s 1ms/step - loss: 0.6923 - accuracy: 0.5204\n",
      "Epoch 51/100\n",
      "15476/15476 [==============================] - 18s 1ms/step - loss: 0.6923 - accuracy: 0.5204\n",
      "Epoch 52/100\n",
      "15476/15476 [==============================] - 18s 1ms/step - loss: 0.6923 - accuracy: 0.5204\n",
      "Epoch 53/100\n",
      "15476/15476 [==============================] - 18s 1ms/step - loss: 0.6923 - accuracy: 0.5204\n",
      "Epoch 54/100\n",
      "15476/15476 [==============================] - 18s 1ms/step - loss: 0.6923 - accuracy: 0.5204\n",
      "Epoch 55/100\n",
      "15476/15476 [==============================] - 18s 1ms/step - loss: 0.6923 - accuracy: 0.5204\n",
      "Epoch 56/100\n",
      "15476/15476 [==============================] - 18s 1ms/step - loss: 0.6923 - accuracy: 0.5204\n",
      "Epoch 57/100\n",
      "15476/15476 [==============================] - 19s 1ms/step - loss: 0.6923 - accuracy: 0.5204\n",
      "Epoch 58/100\n",
      "15476/15476 [==============================] - 19s 1ms/step - loss: 0.6923 - accuracy: 0.5204\n",
      "Epoch 59/100\n",
      "15476/15476 [==============================] - 18s 1ms/step - loss: 0.6923 - accuracy: 0.5204\n",
      "Epoch 60/100\n",
      "15476/15476 [==============================] - 18s 1ms/step - loss: 0.6923 - accuracy: 0.5204\n",
      "Epoch 61/100\n",
      "15476/15476 [==============================] - 18s 1ms/step - loss: 0.6923 - accuracy: 0.5204\n",
      "Epoch 62/100\n",
      "15476/15476 [==============================] - 18s 1ms/step - loss: 0.6923 - accuracy: 0.5204\n",
      "Epoch 63/100\n",
      "15476/15476 [==============================] - 18s 1ms/step - loss: 0.6923 - accuracy: 0.5204\n",
      "Epoch 64/100\n",
      "15476/15476 [==============================] - 18s 1ms/step - loss: 0.6923 - accuracy: 0.5204\n",
      "Epoch 65/100\n",
      "15476/15476 [==============================] - 18s 1ms/step - loss: 0.6923 - accuracy: 0.5204\n",
      "Epoch 66/100\n",
      "15476/15476 [==============================] - 20s 1ms/step - loss: 0.6923 - accuracy: 0.5204\n",
      "Epoch 67/100\n",
      "15476/15476 [==============================] - 19s 1ms/step - loss: 0.6923 - accuracy: 0.5204\n",
      "Epoch 68/100\n",
      "15476/15476 [==============================] - 19s 1ms/step - loss: 0.6923 - accuracy: 0.5204\n",
      "Epoch 69/100\n",
      "15476/15476 [==============================] - 19s 1ms/step - loss: 0.6923 - accuracy: 0.5204\n",
      "Epoch 70/100\n",
      "15476/15476 [==============================] - 18s 1ms/step - loss: 0.6923 - accuracy: 0.5204\n",
      "Epoch 71/100\n",
      "15476/15476 [==============================] - 19s 1ms/step - loss: 0.6923 - accuracy: 0.5204\n",
      "Epoch 72/100\n",
      "15476/15476 [==============================] - 19s 1ms/step - loss: 0.6923 - accuracy: 0.5204\n",
      "Epoch 73/100\n",
      "15476/15476 [==============================] - 19s 1ms/step - loss: 0.6923 - accuracy: 0.5204\n",
      "Epoch 74/100\n",
      "15476/15476 [==============================] - 18s 1ms/step - loss: 0.6923 - accuracy: 0.5204\n",
      "Epoch 75/100\n",
      "15476/15476 [==============================] - 19s 1ms/step - loss: 0.6923 - accuracy: 0.5204\n",
      "Epoch 76/100\n",
      "15476/15476 [==============================] - 19s 1ms/step - loss: 0.6923 - accuracy: 0.5204\n",
      "Epoch 77/100\n"
     ]
    },
    {
     "name": "stdout",
     "output_type": "stream",
     "text": [
      "15476/15476 [==============================] - 19s 1ms/step - loss: 0.6923 - accuracy: 0.5204\n",
      "Epoch 78/100\n",
      "15476/15476 [==============================] - 18s 1ms/step - loss: 0.6923 - accuracy: 0.5204\n",
      "Epoch 79/100\n",
      "15476/15476 [==============================] - 18s 1ms/step - loss: 0.6923 - accuracy: 0.5204\n",
      "Epoch 80/100\n",
      "15476/15476 [==============================] - 18s 1ms/step - loss: 0.6923 - accuracy: 0.5204\n",
      "Epoch 81/100\n",
      "15476/15476 [==============================] - 18s 1ms/step - loss: 0.6923 - accuracy: 0.5204\n",
      "Epoch 82/100\n",
      "15476/15476 [==============================] - 19s 1ms/step - loss: 0.6923 - accuracy: 0.5204\n",
      "Epoch 83/100\n",
      "15476/15476 [==============================] - 18s 1ms/step - loss: 0.6923 - accuracy: 0.5204\n",
      "Epoch 84/100\n",
      "15476/15476 [==============================] - 19s 1ms/step - loss: 0.6923 - accuracy: 0.5204\n",
      "Epoch 85/100\n",
      "15476/15476 [==============================] - 19s 1ms/step - loss: 0.6923 - accuracy: 0.5204\n",
      "Epoch 86/100\n",
      "15476/15476 [==============================] - 19s 1ms/step - loss: 0.6923 - accuracy: 0.5204\n",
      "Epoch 87/100\n",
      "15476/15476 [==============================] - 18s 1ms/step - loss: 0.6923 - accuracy: 0.5204\n",
      "Epoch 88/100\n",
      "15476/15476 [==============================] - 18s 1ms/step - loss: 0.6923 - accuracy: 0.5204\n",
      "Epoch 89/100\n",
      "15476/15476 [==============================] - 19s 1ms/step - loss: 0.6923 - accuracy: 0.5204\n",
      "Epoch 90/100\n",
      "15476/15476 [==============================] - 19s 1ms/step - loss: 0.6923 - accuracy: 0.5204\n",
      "Epoch 91/100\n",
      "15476/15476 [==============================] - 19s 1ms/step - loss: 0.6923 - accuracy: 0.5204\n",
      "Epoch 92/100\n",
      "15476/15476 [==============================] - 19s 1ms/step - loss: 0.6923 - accuracy: 0.5204\n",
      "Epoch 93/100\n",
      "15476/15476 [==============================] - 19s 1ms/step - loss: 0.6923 - accuracy: 0.5204\n",
      "Epoch 94/100\n",
      "15476/15476 [==============================] - 19s 1ms/step - loss: 0.6923 - accuracy: 0.5204\n",
      "Epoch 95/100\n",
      "15476/15476 [==============================] - 19s 1ms/step - loss: 0.6923 - accuracy: 0.5204\n",
      "Epoch 96/100\n",
      "15476/15476 [==============================] - 19s 1ms/step - loss: 0.6923 - accuracy: 0.5204\n",
      "Epoch 97/100\n",
      "15476/15476 [==============================] - 19s 1ms/step - loss: 0.6923 - accuracy: 0.5204\n",
      "Epoch 98/100\n",
      "15476/15476 [==============================] - 18s 1ms/step - loss: 0.6923 - accuracy: 0.5204\n",
      "Epoch 99/100\n",
      "15476/15476 [==============================] - 19s 1ms/step - loss: 0.6923 - accuracy: 0.5204\n",
      "Epoch 100/100\n",
      "15476/15476 [==============================] - 19s 1ms/step - loss: 0.6923 - accuracy: 0.5204\n"
     ]
    },
    {
     "data": {
      "text/plain": [
       "<keras.callbacks.History at 0x7fa7e032cc40>"
      ]
     },
     "execution_count": 10,
     "metadata": {},
     "output_type": "execute_result"
    }
   ],
   "source": [
    "model = Sequential()\n",
    "model.add(LSTM(units=50, input_shape=(1, X_train.shape[2])))\n",
    "model.add(Dense(units=1, activation='sigmoid'))\n",
    "model.compile(optimizer='adam', loss='binary_crossentropy', metrics=['accuracy'])\n",
    "\n",
    "model.fit(X_train, y_train, epochs=100, batch_size=32)"
   ]
  },
  {
   "cell_type": "code",
   "execution_count": 6,
   "id": "d7f9f29f",
   "metadata": {},
   "outputs": [
    {
     "name": "stderr",
     "output_type": "stream",
     "text": [
      "2023-06-06 16:09:17.624062: I tensorflow/core/platform/cpu_feature_guard.cc:193] This TensorFlow binary is optimized with oneAPI Deep Neural Network Library (oneDNN) to use the following CPU instructions in performance-critical operations:  SSE4.1 SSE4.2\n",
      "To enable them in other operations, rebuild TensorFlow with the appropriate compiler flags.\n"
     ]
    }
   ],
   "source": [
    "# model = load_model('RNN_4feature_1_model.h5')"
   ]
  },
  {
   "cell_type": "code",
   "execution_count": 11,
   "id": "071f50c6",
   "metadata": {},
   "outputs": [
    {
     "name": "stdout",
     "output_type": "stream",
     "text": [
      "3869/3869 [==============================] - 3s 673us/step - loss: 0.6921 - accuracy: 0.5228\n",
      "Test Loss: 0.6921271085739136\n",
      "Test Accuracy: 0.5228260159492493\n"
     ]
    }
   ],
   "source": [
    "loss, accuracy = model.evaluate(X_test, y_test)\n",
    "print(\"Test Loss:\", loss)\n",
    "print(\"Test Accuracy:\", accuracy)"
   ]
  },
  {
   "cell_type": "code",
   "execution_count": 11,
   "id": "37cfd9a8",
   "metadata": {},
   "outputs": [],
   "source": [
    "# model.save(\"RNN_4feature_1_model.h5\")"
   ]
  },
  {
   "cell_type": "code",
   "execution_count": 17,
   "id": "fba17244",
   "metadata": {},
   "outputs": [],
   "source": [
    "loss, accuracy = Trained_model_1.evaluate(X_test, y_test)\n",
    "print(\"Test Loss:\", loss)\n",
    "print(\"Test Accuracy:\", accuracy)"
   ]
  },
  {
   "cell_type": "code",
   "execution_count": 14,
   "id": "c76dd01b",
   "metadata": {},
   "outputs": [
    {
     "name": "stdout",
     "output_type": "stream",
     "text": [
      "3869/3869 [==============================] - 2s 597us/step\n",
      "Accuracy: 0.5228260342794372\n",
      "Confusion Matrix:\n",
      "[[    0 59077]\n",
      " [    0 64729]]\n",
      "Classification Report:\n",
      "              precision    recall  f1-score   support\n",
      "\n",
      "           0       0.00      0.00      0.00     59077\n",
      "           1       0.52      1.00      0.69     64729\n",
      "\n",
      "    accuracy                           0.52    123806\n",
      "   macro avg       0.26      0.50      0.34    123806\n",
      "weighted avg       0.27      0.52      0.36    123806\n",
      "\n"
     ]
    },
    {
     "name": "stderr",
     "output_type": "stream",
     "text": [
      "/Users/behdadfeilizadeh/anaconda3/lib/python3.10/site-packages/sklearn/metrics/_classification.py:1344: UndefinedMetricWarning: Precision and F-score are ill-defined and being set to 0.0 in labels with no predicted samples. Use `zero_division` parameter to control this behavior.\n",
      "  _warn_prf(average, modifier, msg_start, len(result))\n",
      "/Users/behdadfeilizadeh/anaconda3/lib/python3.10/site-packages/sklearn/metrics/_classification.py:1344: UndefinedMetricWarning: Precision and F-score are ill-defined and being set to 0.0 in labels with no predicted samples. Use `zero_division` parameter to control this behavior.\n",
      "  _warn_prf(average, modifier, msg_start, len(result))\n",
      "/Users/behdadfeilizadeh/anaconda3/lib/python3.10/site-packages/sklearn/metrics/_classification.py:1344: UndefinedMetricWarning: Precision and F-score are ill-defined and being set to 0.0 in labels with no predicted samples. Use `zero_division` parameter to control this behavior.\n",
      "  _warn_prf(average, modifier, msg_start, len(result))\n"
     ]
    },
    {
     "data": {
      "image/png": "[encoded data removed]",
      "text/plain": [
       "<Figure size 640x480 with 1 Axes>"
      ]
     },
     "metadata": {},
     "output_type": "display_data"
    },
    {
     "data": {
      "image/png": "[encoded data removed]",
      "text/plain": [
       "<Figure size 640x480 with 1 Axes>"
      ]
     },
     "metadata": {},
     "output_type": "display_data"
    }
   ],
   "source": [
    "\n",
    "\n",
    "#Obtain predicted probabilities for positive class (class 1)\n",
    "# X_test_4_feat = X_test[:, :, :4]\n",
    "y_prob = model.predict(X_test)[:, 0]\n",
    "\n",
    "# Convert probabilities to binary predictions (0 or 1)\n",
    "y_pred = np.where(y_prob > 0.5, 1, 0)\n",
    "\n",
    "# Accuracy\n",
    "accuracy = accuracy_score(y_test, y_pred)\n",
    "print(\"Accuracy:\", accuracy)\n",
    "\n",
    "# Confusion matrix\n",
    "cm = confusion_matrix(y_test, y_pred)\n",
    "print(\"Confusion Matrix:\")\n",
    "print(cm)\n",
    "\n",
    "# Classification report\n",
    "cr = classification_report(y_test, y_pred)\n",
    "print(\"Classification Report:\")\n",
    "print(cr)\n",
    "\n",
    "# ROC Curve\n",
    "fpr, tpr, thresholds = roc_curve(y_test, y_prob)\n",
    "roc_auc = roc_auc_score(y_test, y_prob)\n",
    "\n",
    "plt.figure()\n",
    "plt.plot(fpr, tpr, color='blue', lw=2, label='ROC curve (AUC = %0.2f)' % roc_auc)\n",
    "plt.plot([0, 1], [0, 1], color='red', lw=2, linestyle='--')\n",
    "plt.xlim([0.0, 1.0])\n",
    "plt.ylim([0.0, 1.05])\n",
    "plt.xlabel('False Positive Rate')\n",
    "plt.ylabel('True Positive Rate')\n",
    "plt.title('Receiver Operating Characteristic')\n",
    "plt.legend(loc=\"lower right\")\n",
    "plt.show()\n",
    "\n",
    "# Precision-Recall Curve\n",
    "precision, recall, thresholds = precision_recall_curve(y_test, y_prob)\n",
    "average_precision = average_precision_score(y_test, y_prob)\n",
    "\n",
    "plt.figure()\n",
    "plt.plot(recall, precision, color='blue', lw=2, label='Precision-Recall curve (AP = %0.2f)' % average_precision)\n",
    "plt.xlim([0.0, 1.0])\n",
    "plt.ylim([0.0, 1.05])\n",
    "plt.xlabel('Recall')\n",
    "plt.ylabel('Precision')\n",
    "plt.title('Precision-Recall Curve')\n",
    "plt.legend(loc=\"lower right\")\n",
    "plt.show()\n"
   ]
  },
  {
   "cell_type": "code",
   "execution_count": 15,
   "id": "94ebb830",
   "metadata": {},
   "outputs": [
    {
     "name": "stdout",
     "output_type": "stream",
     "text": [
      "MSE:  0.24949042053528747\n",
      "R2:  -4.5889142938460026e-05\n",
      "RMSE: 0.49949016059907275\n",
      "MAE: 0.49904181018088734\n"
     ]
    }
   ],
   "source": [
    "mse = mean_squared_error(y_test, y_prob)\n",
    "rmse = mean_squared_error(y_test, y_prob, squared=False)\n",
    "r2 = r2_score(y_test, y_prob)\n",
    "mae = mean_absolute_error(y_test, y_prob)\n",
    "print(\"MSE: \", mse)\n",
    "print(\"R2: \", r2)\n",
    "print(\"RMSE:\", rmse)\n",
    "print(\"MAE:\", mae)"
   ]
  },
  {
   "cell_type": "markdown",
   "id": "5ce749ad",
   "metadata": {},
   "source": [
    "## Parameter Tuning"
   ]
  },
  {
   "cell_type": "code",
   "execution_count": null,
   "id": "87671120",
   "metadata": {},
   "outputs": [],
   "source": [
    "from tensorflow.keras.wrappers.scikit_learn import KerasClassifier\n",
    "from sklearn.model_selection import GridSearchCV"
   ]
  },
  {
   "cell_type": "code",
   "execution_count": null,
   "id": "a764acf4",
   "metadata": {},
   "outputs": [],
   "source": [
    "def create_model(units=50, activation='relu', optimizer='adam', loss='binary_crossentropy'):\n",
    "    model = Sequential()\n",
    "    model.add(LSTM(units=units, input_shape=(1, X_train.shape[2])))\n",
    "    model.add(Dense(units=1, activation=activation))\n",
    "    model.compile(optimizer=optimizer, loss=loss, metrics=['accuracy'])\n",
    "    return model"
   ]
  },
  {
   "cell_type": "code",
   "execution_count": null,
   "id": "5d8278a2",
   "metadata": {},
   "outputs": [],
   "source": [
    "param_grid = {\n",
    "    'units': [50, 100, 200],  # Number of LSTM units\n",
    "    'batch_size': [32, 64, 128],  # Batch size\n",
    "    'epochs': [25, 50, 100],  # Number of epochs\n",
    "    'activation': ['relu', 'sigmoid', 'tanh'],  # Activation functions to try\n",
    "    'optimizer': ['SGD', 'RMSprop', 'Adam'],  # Optimizers to try\n",
    "    'loss': ['binary_crossentropy', 'mean_squared_error', 'hinge']\n",
    "}\n",
    "\n",
    "# Create the model\n",
    "model = KerasClassifier(build_fn=create_model)\n",
    "\n",
    "# Perform grid search\n",
    "grid = GridSearchCV(estimator=model, param_grid=param_grid, cv=3, scoring='accuracy', verbose=1)\n",
    "grid_result = grid.fit(X_train, y_train)"
   ]
  },
  {
   "cell_type": "code",
   "execution_count": null,
   "id": "4d31ce60",
   "metadata": {},
   "outputs": [],
   "source": [
    "# Get the best hyperparameters\n",
    "best_params = grid_result.best_params_\n",
    "print(\"Best Hyperparameters:\", best_params)\n",
    "\n",
    "# Get the best model\n",
    "best_model = grid_result.best_estimator_.model\n",
    "print(\"Best Model Architecture:\")\n",
    "best_model.summary()"
   ]
  }
 ],
 "metadata": {
  "kernelspec": {
   "display_name": "Python 3 (ipykernel)",
   "language": "python",
   "name": "python3"
  },
  "language_info": {
   "codemirror_mode": {
    "name": "ipython",
    "version": 3
   },
   "file_extension": ".py",
   "mimetype": "text/x-python",
   "name": "python",
   "nbconvert_exporter": "python",
   "pygments_lexer": "ipython3",
   "version": "3.10.9"
  }
 },
 "nbformat": 4,
 "nbformat_minor": 5
}
