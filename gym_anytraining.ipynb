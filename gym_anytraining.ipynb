{
 "cells": [
  {
   "cell_type": "markdown",
   "id": "6257f28b",
   "metadata": {},
   "source": [
    "## Reinforcement Learning: Using gym-anytraining\n",
    "\n",
    "Reference used: https://github.com/AminHP/gym-anytrading"
   ]
  },
  {
   "cell_type": "code",
   "execution_count": 1,
   "id": "b7313890",
   "metadata": {},
   "outputs": [
    {
     "name": "stdout",
     "output_type": "stream",
     "text": [
      "Collecting gym-anytrading\n",
      "  Downloading gym_anytrading-1.3.2-py3-none-any.whl (171 kB)\n",
      "\u001b[2K     \u001b[90m━━━━━━━━━━━━━━━━━━━━━━━━━━━━━━━━━━━━━━━\u001b[0m \u001b[32m172.0/172.0 kB\u001b[0m \u001b[31m1.1 MB/s\u001b[0m eta \u001b[36m0:00:00\u001b[0ma \u001b[36m0:00:01\u001b[0m\n",
      "\u001b[?25hRequirement already satisfied: gym>=0.12.5 in /Users/erinle/opt/anaconda3/lib/python3.9/site-packages (from gym-anytrading) (0.23.0)\n",
      "Requirement already satisfied: numpy>=1.16.4 in /Users/erinle/opt/anaconda3/lib/python3.9/site-packages (from gym-anytrading) (1.23.5)\n",
      "Requirement already satisfied: matplotlib>=3.1.1 in /Users/erinle/opt/anaconda3/lib/python3.9/site-packages (from gym-anytrading) (3.5.2)\n",
      "Requirement already satisfied: pandas>=0.24.2 in /Users/erinle/opt/anaconda3/lib/python3.9/site-packages (from gym-anytrading) (1.4.4)\n",
      "Requirement already satisfied: gym-notices>=0.0.4 in /Users/erinle/opt/anaconda3/lib/python3.9/site-packages (from gym>=0.12.5->gym-anytrading) (0.0.8)\n",
      "Requirement already satisfied: cloudpickle>=1.2.0 in /Users/erinle/opt/anaconda3/lib/python3.9/site-packages (from gym>=0.12.5->gym-anytrading) (2.0.0)\n",
      "Requirement already satisfied: importlib-metadata>=4.10.0 in /Users/erinle/opt/anaconda3/lib/python3.9/site-packages (from gym>=0.12.5->gym-anytrading) (4.11.3)\n",
      "Requirement already satisfied: fonttools>=4.22.0 in /Users/erinle/opt/anaconda3/lib/python3.9/site-packages (from matplotlib>=3.1.1->gym-anytrading) (4.25.0)\n",
      "Requirement already satisfied: python-dateutil>=2.7 in /Users/erinle/opt/anaconda3/lib/python3.9/site-packages (from matplotlib>=3.1.1->gym-anytrading) (2.8.2)\n",
      "Requirement already satisfied: packaging>=20.0 in /Users/erinle/opt/anaconda3/lib/python3.9/site-packages (from matplotlib>=3.1.1->gym-anytrading) (21.3)\n",
      "Requirement already satisfied: pillow>=6.2.0 in /Users/erinle/opt/anaconda3/lib/python3.9/site-packages (from matplotlib>=3.1.1->gym-anytrading) (9.2.0)\n",
      "Requirement already satisfied: kiwisolver>=1.0.1 in /Users/erinle/opt/anaconda3/lib/python3.9/site-packages (from matplotlib>=3.1.1->gym-anytrading) (1.4.2)\n",
      "Requirement already satisfied: cycler>=0.10 in /Users/erinle/opt/anaconda3/lib/python3.9/site-packages (from matplotlib>=3.1.1->gym-anytrading) (0.11.0)\n",
      "Requirement already satisfied: pyparsing>=2.2.1 in /Users/erinle/opt/anaconda3/lib/python3.9/site-packages (from matplotlib>=3.1.1->gym-anytrading) (3.0.9)\n",
      "Requirement already satisfied: pytz>=2020.1 in /Users/erinle/opt/anaconda3/lib/python3.9/site-packages (from pandas>=0.24.2->gym-anytrading) (2022.1)\n",
      "Requirement already satisfied: zipp>=0.5 in /Users/erinle/opt/anaconda3/lib/python3.9/site-packages (from importlib-metadata>=4.10.0->gym>=0.12.5->gym-anytrading) (3.8.0)\n",
      "Requirement already satisfied: six>=1.5 in /Users/erinle/opt/anaconda3/lib/python3.9/site-packages (from python-dateutil>=2.7->matplotlib>=3.1.1->gym-anytrading) (1.16.0)\n",
      "Installing collected packages: gym-anytrading\n",
      "Successfully installed gym-anytrading-1.3.2\n",
      "Note: you may need to restart the kernel to use updated packages.\n"
     ]
    }
   ],
   "source": [
    "pip install gym-anytrading"
   ]
  },
  {
   "cell_type": "code",
   "execution_count": 16,
   "id": "75a41fdc",
   "metadata": {},
   "outputs": [
    {
     "name": "stdout",
     "output_type": "stream",
     "text": [
      "Index(['SYMBOL', 'SERIES', 'OPEN', 'HIGH', 'LOW', 'LAST', 'PREVCLOSE',\n",
      "       'TOTTRDQTY', 'TOTTRDVAL', 'TIMESTAMP', 'TOTALTRADES', 'ISIN', 'Close'],\n",
      "      dtype='object')\n",
      "Stock names:  ['20MICRONS' '3IINFOTECH' '3MINDIA' ... 'ZUARIGLOB' 'ZYDUSWELL' 'ZYLOG']\n",
      "                        Open     High      Low    Close        Volume\n",
      "Time                                                                 \n",
      "2017-01-01 22:00:00  1.05236  1.05253  1.05221  1.05227  1.435400e+08\n",
      "2017-01-01 23:00:00  1.05227  1.05426  1.05226  1.05282  2.531400e+08\n",
      "2017-02-01 00:00:00  1.05283  1.05283  1.05268  1.05281  1.314000e+08\n",
      "2017-02-01 01:00:00  1.05282  1.05286  1.05225  1.05240  2.739400e+08\n",
      "2017-02-01 02:00:00  1.05239  1.05240  1.05164  1.05220  2.581400e+08\n",
      "...                      ...      ...      ...      ...           ...\n",
      "2017-12-29 17:00:00  1.20224  1.20257  1.20191  1.20218  9.283300e+09\n",
      "2017-12-29 18:00:00  1.20218  1.20242  1.20122  1.20139  7.366750e+09\n",
      "2017-12-29 19:00:00  1.20139  1.20144  1.20073  1.20096  7.205770e+09\n",
      "2017-12-29 20:00:00  1.20098  1.20109  1.19978  1.19982  6.679810e+09\n",
      "2017-12-29 21:00:00  1.19984  1.20130  1.19931  1.20075  4.885530e+09\n",
      "\n",
      "[6225 rows x 5 columns]\n"
     ]
    }
   ],
   "source": [
    "import gym\n",
    "import gym_anytrading\n",
    "from gym_anytrading.datasets import FOREX_EURUSD_1H_ASK\n",
    "import numpy as np\n",
    "import matplotlib as plt\n",
    "import pandas as pd\n",
    "\n",
    "db = pd.read_csv(\"FINAL_FROM_DF.csv\")\n",
    "close_col = db[\"CLOSE\"]\n",
    "db = db.drop(columns=['CLOSE'])\n",
    "db[\"Close\"] = close_col\n",
    "\n",
    "print(db.columns)\n",
    "stock_names = np.unique(db[\"SYMBOL\"])\n",
    "print(\"Stock names: \", stock_names)\n",
    "\n",
    "results = []\n",
    "\n",
    "print(FOREX_EURUSD_1H_ASK)\n",
    "\n",
    "\n",
    "# for stock in stock_names:\n",
    "#     stock_only = db.loc[db[\"SYMBOL\"]== stock]\n",
    "#     env = gym.make('stocks-v0', df = stock_only)\n",
    "\n",
    "# #     print(\"env information:\")\n",
    "# #     print(\"> shape:\", env.shape)\n",
    "# #     print(\"> df.shape:\", env.df.shape)\n",
    "# #     print(\"> prices.shape:\", env.prices.shape)\n",
    "# #     print(\"> signal_features.shape:\", env.signal_features.shape)\n",
    "# #     print(\"> max_possible_profit:\", env.max_possible_profit())\n",
    "#     print([stock, env.max_possible_profit()])\n",
    "#     results.append([stock, env.max_possible_profit()])\n",
    "    \n",
    "\n",
    "    \n",
    "# print(results)    \n",
    "\n",
    "\n",
    "\n",
    "\n",
    "\n",
    "\n",
    "\n"
   ]
  },
  {
   "cell_type": "code",
   "execution_count": null,
   "id": "1ecfdeef",
   "metadata": {},
   "outputs": [],
   "source": []
  }
 ],
 "metadata": {
  "kernelspec": {
   "display_name": "Python 3 (ipykernel)",
   "language": "python",
   "name": "python3"
  },
  "language_info": {
   "codemirror_mode": {
    "name": "ipython",
    "version": 3
   },
   "file_extension": ".py",
   "mimetype": "text/x-python",
   "name": "python",
   "nbconvert_exporter": "python",
   "pygments_lexer": "ipython3",
   "version": "3.9.13"
  }
 },
 "nbformat": 4,
 "nbformat_minor": 5
}
