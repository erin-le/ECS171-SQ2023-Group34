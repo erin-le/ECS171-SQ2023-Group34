{
 "cells": [
  {
   "attachments": {},
   "cell_type": "markdown",
   "id": "bd5dcaf4",
   "metadata": {},
   "source": [
    "# Group 34 Project: Stock Portfolio Recommender with Reinforcement Learning"
   ]
  },
  {
   "cell_type": "code",
   "execution_count": null,
   "id": "d3871f74",
   "metadata": {},
   "outputs": [],
   "source": [
    "#define environment\n",
    "# from: https://www.tensorflow.org/agents/tutorials/2_environments_tutorial\n",
    "from __future__ import absolute_import\n",
    "from __future__ import division\n",
    "from __future__ import print_function\n",
    "\n",
    "import abc\n",
    "import tensorflow as tf\n",
    "import numpy as np\n",
    "\n",
    "from tf_agents.environments import py_environment\n",
    "from tf_agents.environments import tf_environment\n",
    "from tf_agents.environments import tf_py_environment\n",
    "from tf_agents.environments import utils\n",
    "from tf_agents.specs import array_spec\n",
    "from tf_agents.environments import wrappers\n",
    "from tf_agents.environments import suite_gym\n",
    "from tf_agents.trajectories import time_step as ts\n",
    "\n",
    "\n",
    "# from: https://www.tensorflow.org/agents/tutorials/2_environments_tutorial\n",
    "class PyEnvironment(object):\n",
    "\n",
    "  def reset(self):\n",
    "    \"\"\"Return initial_time_step.\"\"\"\n",
    "    self._current_time_step = self._reset()\n",
    "    return self._current_time_step\n",
    "\n",
    "  def step(self, action):\n",
    "    \"\"\"Apply action and return new time_step.\"\"\"\n",
    "    if self._current_time_step is None:\n",
    "        return self.reset()\n",
    "    self._current_time_step = self._step(action)\n",
    "    return self._current_time_step\n",
    "\n",
    "  def current_time_step(self):\n",
    "    return self._current_time_step\n",
    "\n",
    "  def time_step_spec(self):\n",
    "    \"\"\"Return time_step_spec.\"\"\"\n",
    "\n",
    "  @abc.abstractmethod\n",
    "  def observation_spec(self):\n",
    "    \"\"\"Return observation_spec.\"\"\"\n",
    "\n",
    "  @abc.abstractmethod\n",
    "  def action_spec(self):\n",
    "    \"\"\"Return action_spec.\"\"\"\n",
    "\n",
    "  @abc.abstractmethod\n",
    "  def _reset(self):\n",
    "    \"\"\"Return initial_time_step.\"\"\"\n",
    "\n",
    "  @abc.abstractmethod\n",
    "  def _step(self, action):\n",
    "    \"\"\"Apply action and return new time_step.\"\"\""
   ]
  }
 ],
 "metadata": {
  "kernelspec": {
   "display_name": "Python 3 (ipykernel)",
   "language": "python",
   "name": "python3"
  },
  "language_info": {
   "codemirror_mode": {
    "name": "ipython",
    "version": 3
   },
   "file_extension": ".py",
   "mimetype": "text/x-python",
   "name": "python",
   "nbconvert_exporter": "python",
   "pygments_lexer": "ipython3",
   "version": "3.9.13"
  }
 },
 "nbformat": 4,
 "nbformat_minor": 5
}
