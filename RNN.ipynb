{
 "cells": [
  {
   "cell_type": "code",
   "execution_count": 14,
   "id": "c268b8f3",
   "metadata": {},
   "outputs": [],
   "source": [
    "import numpy as np\n",
    "import pandas as pd\n",
    "from sklearn.model_selection import train_test_split\n",
    "from sklearn.preprocessing import MinMaxScaler\n",
    "from tensorflow.keras.models import Sequential\n",
    "from tensorflow.keras.layers import LSTM, Dense\n",
    "from tensorflow.keras.models import load_model\n",
    "from sklearn.metrics import accuracy_score\n",
    "from sklearn.metrics import confusion_matrix, classification_report\n",
    "from sklearn.metrics import roc_curve, roc_auc_score, precision_recall_curve, average_precision_score, mean_squared_error, mean_absolute_error, r2_score\n",
    "import matplotlib.pyplot as plt"
   ]
  },
  {
   "cell_type": "code",
   "execution_count": 2,
   "id": "2603f416",
   "metadata": {},
   "outputs": [],
   "source": [
    "# Load the dataset\n",
    "df = pd.read_csv(\"FINAL_FROM_DF.csv\")\n",
    "\n",
    "# Extract the relevant features\n",
    "df['TARGET'] = (df['CLOSE'] > df['PREVCLOSE']).astype(int)\n",
    "features = df[['OPEN', 'HIGH', 'LOW', 'CLOSE', 'LAST', 'PREVCLOSE', 'TOTTRDQTY', 'TOTTRDVAL']]\n",
    "target = df['TARGET']\n",
    "\n",
    "# Normalize the features\n",
    "scaler = MinMaxScaler(feature_range=(0, 1))\n",
    "scaled_features = scaler.fit_transform(features)\n"
   ]
  },
  {
   "cell_type": "code",
   "execution_count": 3,
   "id": "e0d27a3a",
   "metadata": {},
   "outputs": [],
   "source": [
    "X_train, X_test, y_train, y_test = train_test_split(scaled_features, target, test_size=0.2, shuffle=False)"
   ]
  },
  {
   "cell_type": "code",
   "execution_count": 4,
   "id": "a4d7ffff",
   "metadata": {},
   "outputs": [],
   "source": [
    "# Reshape the input data for LSTM\n",
    "X_train = np.reshape(X_train, (X_train.shape[0], 1, X_train.shape[1]))\n",
    "X_test = np.reshape(X_test, (X_test.shape[0], 1, X_test.shape[1]))"
   ]
  },
  {
   "cell_type": "code",
   "execution_count": 8,
   "id": "327b86e2",
   "metadata": {},
   "outputs": [
    {
     "name": "stdout",
     "output_type": "stream",
     "text": [
      "Epoch 1/100\n",
      "21161/21161 [==============================] - 27s 1ms/step - loss: 0.6895 - accuracy: 0.5384\n",
      "Epoch 2/100\n",
      "21161/21161 [==============================] - 27s 1ms/step - loss: 0.6886 - accuracy: 0.5414\n",
      "Epoch 3/100\n",
      "21161/21161 [==============================] - 28s 1ms/step - loss: 0.6881 - accuracy: 0.5427\n",
      "Epoch 4/100\n",
      "21161/21161 [==============================] - 26s 1ms/step - loss: 0.6877 - accuracy: 0.5435\n",
      "Epoch 5/100\n",
      "21161/21161 [==============================] - 26s 1ms/step - loss: 0.6873 - accuracy: 0.5456\n",
      "Epoch 6/100\n",
      "21161/21161 [==============================] - 26s 1ms/step - loss: 0.6869 - accuracy: 0.5477\n",
      "Epoch 7/100\n",
      "21161/21161 [==============================] - 26s 1ms/step - loss: 0.6862 - accuracy: 0.5524\n",
      "Epoch 8/100\n",
      "21161/21161 [==============================] - 26s 1ms/step - loss: 0.6845 - accuracy: 0.5598\n",
      "Epoch 9/100\n",
      "21161/21161 [==============================] - 26s 1ms/step - loss: 0.6803 - accuracy: 0.5737\n",
      "Epoch 10/100\n",
      "21161/21161 [==============================] - 27s 1ms/step - loss: 0.6738 - accuracy: 0.5913\n",
      "Epoch 11/100\n",
      "21161/21161 [==============================] - 26s 1ms/step - loss: 0.6677 - accuracy: 0.6041\n",
      "Epoch 12/100\n",
      "21161/21161 [==============================] - 26s 1ms/step - loss: 0.6617 - accuracy: 0.6157\n",
      "Epoch 13/100\n",
      "21161/21161 [==============================] - 26s 1ms/step - loss: 0.6557 - accuracy: 0.6243\n",
      "Epoch 14/100\n",
      "21161/21161 [==============================] - 26s 1ms/step - loss: 0.6493 - accuracy: 0.6331\n",
      "Epoch 15/100\n",
      "21161/21161 [==============================] - 26s 1ms/step - loss: 0.6435 - accuracy: 0.6414\n",
      "Epoch 16/100\n",
      "21161/21161 [==============================] - 26s 1ms/step - loss: 0.6373 - accuracy: 0.6493\n",
      "Epoch 17/100\n",
      "21161/21161 [==============================] - 28s 1ms/step - loss: 0.6312 - accuracy: 0.6574\n",
      "Epoch 18/100\n",
      "21161/21161 [==============================] - 29s 1ms/step - loss: 0.6255 - accuracy: 0.6630\n",
      "Epoch 19/100\n",
      "21161/21161 [==============================] - 29s 1ms/step - loss: 0.6201 - accuracy: 0.6689\n",
      "Epoch 20/100\n",
      "21161/21161 [==============================] - 28s 1ms/step - loss: 0.6149 - accuracy: 0.6727\n",
      "Epoch 21/100\n",
      "21161/21161 [==============================] - 29s 1ms/step - loss: 0.6097 - accuracy: 0.6794\n",
      "Epoch 22/100\n",
      "21161/21161 [==============================] - 29s 1ms/step - loss: 0.6039 - accuracy: 0.6861\n",
      "Epoch 23/100\n",
      "21161/21161 [==============================] - 29s 1ms/step - loss: 0.5980 - accuracy: 0.6928\n",
      "Epoch 24/100\n",
      "21161/21161 [==============================] - 28s 1ms/step - loss: 0.5938 - accuracy: 0.6944\n",
      "Epoch 25/100\n",
      "21161/21161 [==============================] - 28s 1ms/step - loss: 0.5885 - accuracy: 0.7000\n",
      "Epoch 26/100\n",
      "21161/21161 [==============================] - 28s 1ms/step - loss: 0.5837 - accuracy: 0.7039\n",
      "Epoch 27/100\n",
      "21161/21161 [==============================] - 29s 1ms/step - loss: 0.5789 - accuracy: 0.7078\n",
      "Epoch 28/100\n",
      "21161/21161 [==============================] - 27s 1ms/step - loss: 0.5746 - accuracy: 0.7107\n",
      "Epoch 29/100\n",
      "21161/21161 [==============================] - 28s 1ms/step - loss: 0.5698 - accuracy: 0.7153\n",
      "Epoch 30/100\n",
      "21161/21161 [==============================] - 28s 1ms/step - loss: 0.5658 - accuracy: 0.7183\n",
      "Epoch 31/100\n",
      "21161/21161 [==============================] - 28s 1ms/step - loss: 0.5607 - accuracy: 0.7237\n",
      "Epoch 32/100\n",
      "21161/21161 [==============================] - 28s 1ms/step - loss: 0.5561 - accuracy: 0.7271\n",
      "Epoch 33/100\n",
      "21161/21161 [==============================] - 27s 1ms/step - loss: 0.5522 - accuracy: 0.7299\n",
      "Epoch 34/100\n",
      "21161/21161 [==============================] - 27s 1ms/step - loss: 0.5483 - accuracy: 0.7342\n",
      "Epoch 35/100\n",
      "21161/21161 [==============================] - 26s 1ms/step - loss: 0.5449 - accuracy: 0.7351\n",
      "Epoch 36/100\n",
      "21161/21161 [==============================] - 26s 1ms/step - loss: 0.5409 - accuracy: 0.7383\n",
      "Epoch 37/100\n",
      "21161/21161 [==============================] - 26s 1ms/step - loss: 0.5376 - accuracy: 0.7410\n",
      "Epoch 38/100\n",
      "21161/21161 [==============================] - 26s 1ms/step - loss: 0.5332 - accuracy: 0.7448\n",
      "Epoch 39/100\n",
      "21161/21161 [==============================] - 29s 1ms/step - loss: 0.5302 - accuracy: 0.7470\n",
      "Epoch 40/100\n",
      "21161/21161 [==============================] - 30s 1ms/step - loss: 0.5264 - accuracy: 0.7502\n",
      "Epoch 41/100\n",
      "21161/21161 [==============================] - 27s 1ms/step - loss: 0.5243 - accuracy: 0.7510\n",
      "Epoch 42/100\n",
      "21161/21161 [==============================] - 29s 1ms/step - loss: 0.5212 - accuracy: 0.7534\n",
      "Epoch 43/100\n",
      "21161/21161 [==============================] - 28s 1ms/step - loss: 0.5185 - accuracy: 0.7543\n",
      "Epoch 44/100\n",
      "21161/21161 [==============================] - 31s 1ms/step - loss: 0.5160 - accuracy: 0.7567\n",
      "Epoch 45/100\n",
      "21161/21161 [==============================] - 30s 1ms/step - loss: 0.5127 - accuracy: 0.7597\n",
      "Epoch 46/100\n",
      "21161/21161 [==============================] - 30s 1ms/step - loss: 0.5095 - accuracy: 0.7614\n",
      "Epoch 47/100\n",
      "21161/21161 [==============================] - 28s 1ms/step - loss: 0.5084 - accuracy: 0.7616\n",
      "Epoch 48/100\n",
      "21161/21161 [==============================] - 31s 1ms/step - loss: 0.5055 - accuracy: 0.7634\n",
      "Epoch 49/100\n",
      "21161/21161 [==============================] - 30s 1ms/step - loss: 0.5022 - accuracy: 0.7669\n",
      "Epoch 50/100\n",
      "21161/21161 [==============================] - 28s 1ms/step - loss: 0.5008 - accuracy: 0.7663\n",
      "Epoch 51/100\n",
      "21161/21161 [==============================] - 26s 1ms/step - loss: 0.4965 - accuracy: 0.7708\n",
      "Epoch 52/100\n",
      "21161/21161 [==============================] - 26s 1ms/step - loss: 0.4952 - accuracy: 0.7704\n",
      "Epoch 53/100\n",
      "21161/21161 [==============================] - 27s 1ms/step - loss: 0.4938 - accuracy: 0.7705\n",
      "Epoch 54/100\n",
      "21161/21161 [==============================] - 26s 1ms/step - loss: 0.4905 - accuracy: 0.7740\n",
      "Epoch 55/100\n",
      "21161/21161 [==============================] - 26s 1ms/step - loss: 0.4888 - accuracy: 0.7741\n",
      "Epoch 56/100\n",
      "21161/21161 [==============================] - 26s 1ms/step - loss: 0.4862 - accuracy: 0.7757\n",
      "Epoch 57/100\n",
      "21161/21161 [==============================] - 26s 1ms/step - loss: 0.4844 - accuracy: 0.7766\n",
      "Epoch 58/100\n",
      "21161/21161 [==============================] - 26s 1ms/step - loss: 0.4820 - accuracy: 0.7785\n",
      "Epoch 59/100\n",
      "21161/21161 [==============================] - 26s 1ms/step - loss: 0.4795 - accuracy: 0.7797\n",
      "Epoch 60/100\n",
      "21161/21161 [==============================] - 26s 1ms/step - loss: 0.4770 - accuracy: 0.7821\n",
      "Epoch 61/100\n",
      "21161/21161 [==============================] - 28s 1ms/step - loss: 0.4756 - accuracy: 0.7816\n",
      "Epoch 62/100\n",
      "21161/21161 [==============================] - 28s 1ms/step - loss: 0.4724 - accuracy: 0.7839\n",
      "Epoch 63/100\n",
      "21161/21161 [==============================] - 26s 1ms/step - loss: 0.4711 - accuracy: 0.7834\n",
      "Epoch 64/100\n",
      "21161/21161 [==============================] - 27s 1ms/step - loss: 0.4673 - accuracy: 0.7879\n",
      "Epoch 65/100\n",
      "21161/21161 [==============================] - 26s 1ms/step - loss: 0.4650 - accuracy: 0.7904\n",
      "Epoch 66/100\n",
      "21161/21161 [==============================] - 26s 1ms/step - loss: 0.4626 - accuracy: 0.7914\n",
      "Epoch 67/100\n",
      "21161/21161 [==============================] - 27s 1ms/step - loss: 0.4610 - accuracy: 0.7910\n",
      "Epoch 68/100\n",
      "21161/21161 [==============================] - 26s 1ms/step - loss: 0.4579 - accuracy: 0.7929\n",
      "Epoch 69/100\n",
      "21161/21161 [==============================] - 27s 1ms/step - loss: 0.4550 - accuracy: 0.7947\n",
      "Epoch 70/100\n",
      "21161/21161 [==============================] - 27s 1ms/step - loss: 0.4536 - accuracy: 0.7944\n",
      "Epoch 71/100\n",
      "21161/21161 [==============================] - 27s 1ms/step - loss: 0.4511 - accuracy: 0.7952\n",
      "Epoch 72/100\n",
      "21161/21161 [==============================] - 27s 1ms/step - loss: 0.4493 - accuracy: 0.7965\n",
      "Epoch 73/100\n",
      "21161/21161 [==============================] - 27s 1ms/step - loss: 0.4464 - accuracy: 0.7980\n",
      "Epoch 74/100\n",
      "21161/21161 [==============================] - 27s 1ms/step - loss: 0.4438 - accuracy: 0.7998\n",
      "Epoch 75/100\n",
      "21161/21161 [==============================] - 27s 1ms/step - loss: 0.4420 - accuracy: 0.8000\n",
      "Epoch 76/100\n",
      "21161/21161 [==============================] - 27s 1ms/step - loss: 0.4391 - accuracy: 0.8033\n",
      "Epoch 77/100\n",
      "21161/21161 [==============================] - 27s 1ms/step - loss: 0.4370 - accuracy: 0.8034\n",
      "Epoch 78/100\n",
      "21161/21161 [==============================] - 27s 1ms/step - loss: 0.4360 - accuracy: 0.8030\n",
      "Epoch 79/100\n",
      "21161/21161 [==============================] - 26s 1ms/step - loss: 0.4325 - accuracy: 0.8051\n",
      "Epoch 80/100\n",
      "21161/21161 [==============================] - 26s 1ms/step - loss: 0.4322 - accuracy: 0.8043\n",
      "Epoch 81/100\n",
      "21161/21161 [==============================] - 26s 1ms/step - loss: 0.4295 - accuracy: 0.8061\n",
      "Epoch 82/100\n",
      "21161/21161 [==============================] - 26s 1ms/step - loss: 0.4270 - accuracy: 0.8081\n",
      "Epoch 83/100\n",
      "21161/21161 [==============================] - 26s 1ms/step - loss: 0.4257 - accuracy: 0.8078\n",
      "Epoch 84/100\n",
      "21161/21161 [==============================] - 26s 1ms/step - loss: 0.4229 - accuracy: 0.8097\n",
      "Epoch 85/100\n",
      "21161/21161 [==============================] - 26s 1ms/step - loss: 0.4216 - accuracy: 0.8100\n",
      "Epoch 86/100\n",
      "21161/21161 [==============================] - 26s 1ms/step - loss: 0.4188 - accuracy: 0.8117\n",
      "Epoch 87/100\n",
      "21161/21161 [==============================] - 26s 1ms/step - loss: 0.4171 - accuracy: 0.8123\n",
      "Epoch 88/100\n",
      "21161/21161 [==============================] - 26s 1ms/step - loss: 0.4172 - accuracy: 0.8105\n",
      "Epoch 89/100\n",
      "21161/21161 [==============================] - 26s 1ms/step - loss: 0.4130 - accuracy: 0.8148\n",
      "Epoch 90/100\n",
      "21161/21161 [==============================] - 26s 1ms/step - loss: 0.4130 - accuracy: 0.8144\n",
      "Epoch 91/100\n",
      "21161/21161 [==============================] - 26s 1ms/step - loss: 0.4115 - accuracy: 0.8145\n",
      "Epoch 92/100\n",
      "21161/21161 [==============================] - 26s 1ms/step - loss: 0.4093 - accuracy: 0.8155\n",
      "Epoch 93/100\n",
      "21161/21161 [==============================] - 26s 1ms/step - loss: 0.4080 - accuracy: 0.8151\n",
      "Epoch 94/100\n",
      "21161/21161 [==============================] - 26s 1ms/step - loss: 0.4071 - accuracy: 0.8154\n",
      "Epoch 95/100\n",
      "21161/21161 [==============================] - 26s 1ms/step - loss: 0.4050 - accuracy: 0.8171\n",
      "Epoch 96/100\n",
      "21161/21161 [==============================] - 27s 1ms/step - loss: 0.4029 - accuracy: 0.8178\n",
      "Epoch 97/100\n",
      "21161/21161 [==============================] - 26s 1ms/step - loss: 0.3997 - accuracy: 0.8210\n",
      "Epoch 98/100\n",
      "21161/21161 [==============================] - 26s 1ms/step - loss: 0.4009 - accuracy: 0.8175\n",
      "Epoch 99/100\n",
      "21161/21161 [==============================] - 26s 1ms/step - loss: 0.3985 - accuracy: 0.8198\n",
      "Epoch 100/100\n",
      "21161/21161 [==============================] - 26s 1ms/step - loss: 0.3972 - accuracy: 0.8199\n"
     ]
    },
    {
     "data": {
      "text/plain": [
       "<keras.callbacks.History at 0x7f868b411960>"
      ]
     },
     "execution_count": 8,
     "metadata": {},
     "output_type": "execute_result"
    }
   ],
   "source": [
    "model = Sequential()\n",
    "model.add(LSTM(units=50, input_shape=(1, X_train.shape[2])))\n",
    "model.add(Dense(units=1, activation='sigmoid'))\n",
    "model.compile(optimizer='adam', loss='binary_crossentropy', metrics=['accuracy'])\n",
    "\n",
    "model.fit(X_train, y_train, epochs=100, batch_size=32)"
   ]
  },
  {
   "cell_type": "code",
   "execution_count": 9,
   "id": "071f50c6",
   "metadata": {},
   "outputs": [
    {
     "name": "stdout",
     "output_type": "stream",
     "text": [
      "5291/5291 [==============================] - 5s 807us/step - loss: 0.3656 - accuracy: 0.8647\n",
      "Test Loss: 0.36556389927864075\n",
      "Test Accuracy: 0.8646806478500366\n"
     ]
    }
   ],
   "source": [
    "loss, accuracy = model.evaluate(X_test, y_test)\n",
    "print(\"Test Loss:\", loss)\n",
    "print(\"Test Accuracy:\", accuracy)"
   ]
  },
  {
   "cell_type": "code",
   "execution_count": 11,
   "id": "37cfd9a8",
   "metadata": {},
   "outputs": [],
   "source": [
    "model.save(\"RNN_model.h5\")"
   ]
  },
  {
   "cell_type": "code",
   "execution_count": 7,
   "id": "b7e2697d",
   "metadata": {},
   "outputs": [],
   "source": [
    "# model = load_model(\"RNN_model.h5\")"
   ]
  },
  {
   "cell_type": "code",
   "execution_count": 10,
   "id": "ca68f511",
   "metadata": {
    "scrolled": true
   },
   "outputs": [
    {
     "name": "stdout",
     "output_type": "stream",
     "text": [
      "5291/5291 [==============================] - 3s 582us/step\n",
      "Accuracy: 0.8646806197978509\n",
      "Confusion Matrix:\n",
      "[[88282  3841]\n",
      " [19066 58092]]\n",
      "Classification Report:\n",
      "              precision    recall  f1-score   support\n",
      "\n",
      "           0       0.82      0.96      0.89     92123\n",
      "           1       0.94      0.75      0.84     77158\n",
      "\n",
      "    accuracy                           0.86    169281\n",
      "   macro avg       0.88      0.86      0.86    169281\n",
      "weighted avg       0.88      0.86      0.86    169281\n",
      "\n"
     ]
    },
    {
     "data": {
      "image/png": "[encoded data removed]",
      "text/plain": [
       "<Figure size 640x480 with 1 Axes>"
      ]
     },
     "metadata": {},
     "output_type": "display_data"
    },
    {
     "data": {
      "image/png": "[encoded data removed]",
      "text/plain": [
       "<Figure size 640x480 with 1 Axes>"
      ]
     },
     "metadata": {},
     "output_type": "display_data"
    }
   ],
   "source": [
    "\n",
    "\n",
    "#Obtain predicted probabilities for positive class (class 1)\n",
    "# X_test_4_feat = X_test[:, :, :4]\n",
    "y_prob = model.predict(X_test)[:, 0]\n",
    "\n",
    "# Convert probabilities to binary predictions (0 or 1)\n",
    "y_pred = np.where(y_prob > 0.5, 1, 0)\n",
    "\n",
    "# Accuracy\n",
    "accuracy = accuracy_score(y_test, y_pred)\n",
    "print(\"Accuracy:\", accuracy)\n",
    "\n",
    "# Confusion matrix\n",
    "cm = confusion_matrix(y_test, y_pred)\n",
    "print(\"Confusion Matrix:\")\n",
    "print(cm)\n",
    "\n",
    "# Classification report\n",
    "cr = classification_report(y_test, y_pred)\n",
    "print(\"Classification Report:\")\n",
    "print(cr)\n",
    "\n",
    "# ROC Curve\n",
    "fpr, tpr, thresholds = roc_curve(y_test, y_prob)\n",
    "roc_auc = roc_auc_score(y_test, y_prob)\n",
    "\n",
    "plt.figure()\n",
    "plt.plot(fpr, tpr, color='blue', lw=2, label='ROC curve (AUC = %0.2f)' % roc_auc)\n",
    "plt.plot([0, 1], [0, 1], color='red', lw=2, linestyle='--')\n",
    "plt.xlim([0.0, 1.0])\n",
    "plt.ylim([0.0, 1.05])\n",
    "plt.xlabel('False Positive Rate')\n",
    "plt.ylabel('True Positive Rate')\n",
    "plt.title('Receiver Operating Characteristic')\n",
    "plt.legend(loc=\"lower right\")\n",
    "plt.show()\n",
    "\n",
    "# Precision-Recall Curve\n",
    "precision, recall, thresholds = precision_recall_curve(y_test, y_prob)\n",
    "average_precision = average_precision_score(y_test, y_prob)\n",
    "\n",
    "plt.figure()\n",
    "plt.plot(recall, precision, color='blue', lw=2, label='Precision-Recall curve (AP = %0.2f)' % average_precision)\n",
    "plt.xlim([0.0, 1.0])\n",
    "plt.ylim([0.0, 1.05])\n",
    "plt.xlabel('Recall')\n",
    "plt.ylabel('Precision')\n",
    "plt.title('Precision-Recall Curve')\n",
    "plt.legend(loc=\"lower right\")\n",
    "plt.show()\n"
   ]
  },
  {
   "cell_type": "code",
   "execution_count": 15,
   "id": "310403fe",
   "metadata": {},
   "outputs": [
    {
     "name": "stdout",
     "output_type": "stream",
     "text": [
      "MSE:  0.10975320626548382\n",
      "R2:  0.5575292017272079\n",
      "RMSE: 0.3312902145634305\n",
      "MAE: 0.2656499914350679\n"
     ]
    }
   ],
   "source": [
    "mse = mean_squared_error(y_test, y_prob)\n",
    "rmse = mean_squared_error(y_test, y_prob, squared=False)\n",
    "r2 = r2_score(y_test, y_prob)\n",
    "mae = mean_absolute_error(y_test, y_prob)\n",
    "print(\"MSE: \", mse)\n",
    "print(\"R2: \", r2)\n",
    "print(\"RMSE:\", rmse)\n",
    "print(\"MAE:\", mae)"
   ]
  },
  {
   "cell_type": "markdown",
   "id": "344fdb78",
   "metadata": {},
   "source": [
    "## Parameter Tuining"
   ]
  },
  {
   "cell_type": "code",
   "execution_count": null,
   "id": "431ac2d9",
   "metadata": {},
   "outputs": [],
   "source": [
    "from tensorflow.keras.wrappers.scikit_learn import KerasClassifier\n",
    "from sklearn.model_selection import GridSearchCV"
   ]
  },
  {
   "cell_type": "code",
   "execution_count": null,
   "id": "38fda91c",
   "metadata": {},
   "outputs": [],
   "source": [
    "def create_model(units=50, activation='relu', optimizer='adam', loss='binary_crossentropy'):\n",
    "    model = Sequential()\n",
    "    model.add(LSTM(units=units, input_shape=(1, X_train.shape[2])))\n",
    "    model.add(Dense(units=1, activation=activation))\n",
    "    model.compile(optimizer=optimizer, loss=loss, metrics=['accuracy'])\n",
    "    return model"
   ]
  },
  {
   "cell_type": "code",
   "execution_count": null,
   "id": "54ce737c",
   "metadata": {},
   "outputs": [],
   "source": [
    "param_grid = {\n",
    "    'units': [50, 100, 200],  # Number of LSTM units\n",
    "    'batch_size': [32, 64, 128],  # Batch size\n",
    "    'epochs': [25, 50, 100],  # Number of epochs\n",
    "    'activation': ['relu', 'sigmoid', 'tanh'],  # Activation functions to try\n",
    "    'optimizer': ['SGD', 'RMSprop', 'Adam'],  # Optimizers to try\n",
    "    'loss': ['binary_crossentropy', 'mean_squared_error', 'hinge']\n",
    "}\n",
    "\n",
    "# Create the model\n",
    "model = KerasClassifier(build_fn=create_model)\n",
    "\n",
    "# Perform grid search\n",
    "grid = GridSearchCV(estimator=model, param_grid=param_grid, cv=3, scoring='accuracy', verbose=1)\n",
    "grid_result = grid.fit(X_train, y_train)"
   ]
  },
  {
   "cell_type": "code",
   "execution_count": null,
   "id": "61daca88",
   "metadata": {},
   "outputs": [],
   "source": [
    "# Get the best hyperparameters\n",
    "best_params = grid_result.best_params_\n",
    "print(\"Best Hyperparameters:\", best_params)\n",
    "\n",
    "# Get the best model\n",
    "best_model = grid_result.best_estimator_.model\n",
    "print(\"Best Model Architecture:\")\n",
    "best_model.summary()"
   ]
  }
 ],
 "metadata": {
  "kernelspec": {
   "display_name": "Python 3 (ipykernel)",
   "language": "python",
   "name": "python3"
  },
  "language_info": {
   "codemirror_mode": {
    "name": "ipython",
    "version": 3
   },
   "file_extension": ".py",
   "mimetype": "text/x-python",
   "name": "python",
   "nbconvert_exporter": "python",
   "pygments_lexer": "ipython3",
   "version": "3.10.9"
  }
 },
 "nbformat": 4,
 "nbformat_minor": 5
}
